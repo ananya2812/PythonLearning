{
 "cells": [
  {
   "cell_type": "code",
   "execution_count": 3,
   "id": "b1359f34",
   "metadata": {},
   "outputs": [],
   "source": [
    "def say_hello():\n",
    "    print(\"Hello\")\n",
    "    print(\"How are you?\")"
   ]
  },
  {
   "cell_type": "code",
   "execution_count": 4,
   "id": "a6052baa",
   "metadata": {},
   "outputs": [
    {
     "name": "stdout",
     "output_type": "stream",
     "text": [
      "Hello\n",
      "How are you?\n"
     ]
    }
   ],
   "source": [
    "say_hello()"
   ]
  },
  {
   "cell_type": "code",
   "execution_count": 5,
   "id": "204ae738",
   "metadata": {},
   "outputs": [
    {
     "data": {
      "text/plain": [
       "<function __main__.say_hello()>"
      ]
     },
     "execution_count": 5,
     "metadata": {},
     "output_type": "execute_result"
    }
   ],
   "source": [
    "say_hello"
   ]
  },
  {
   "cell_type": "code",
   "execution_count": 9,
   "id": "13d7d9bf",
   "metadata": {},
   "outputs": [],
   "source": [
    "def say_hello(name=\"Default\"):\n",
    "    print(f\"Hello {name}\")"
   ]
  },
  {
   "cell_type": "code",
   "execution_count": 10,
   "id": "d0f60e51",
   "metadata": {},
   "outputs": [
    {
     "name": "stdout",
     "output_type": "stream",
     "text": [
      "Hello Ananya\n"
     ]
    }
   ],
   "source": [
    "say_hello(\"Ananya\")"
   ]
  },
  {
   "cell_type": "code",
   "execution_count": 11,
   "id": "ac4828e2",
   "metadata": {},
   "outputs": [
    {
     "name": "stdout",
     "output_type": "stream",
     "text": [
      "Hello Default\n"
     ]
    }
   ],
   "source": [
    "say_hello()"
   ]
  },
  {
   "cell_type": "code",
   "execution_count": 12,
   "id": "9aa32142",
   "metadata": {},
   "outputs": [],
   "source": [
    "def add_num(num1, num2):\n",
    "    return num1+num2"
   ]
  },
  {
   "cell_type": "code",
   "execution_count": 14,
   "id": "4bfd94f0",
   "metadata": {},
   "outputs": [
    {
     "data": {
      "text/plain": [
       "5"
      ]
     },
     "execution_count": 14,
     "metadata": {},
     "output_type": "execute_result"
    }
   ],
   "source": [
    "add_num(2,3)"
   ]
  },
  {
   "cell_type": "code",
   "execution_count": 15,
   "id": "e4cc4fa8",
   "metadata": {},
   "outputs": [
    {
     "data": {
      "text/plain": [
       "'23'"
      ]
     },
     "execution_count": 15,
     "metadata": {},
     "output_type": "execute_result"
    }
   ],
   "source": [
    "add_num('2','3')"
   ]
  },
  {
   "cell_type": "markdown",
   "id": "f16af875",
   "metadata": {},
   "source": [
    "## Functions with Logic"
   ]
  },
  {
   "cell_type": "code",
   "execution_count": 16,
   "id": "799a9f9f",
   "metadata": {},
   "outputs": [],
   "source": [
    "def even_check(num):\n",
    "    return num%2==0"
   ]
  },
  {
   "cell_type": "code",
   "execution_count": 17,
   "id": "a9d6af7d",
   "metadata": {},
   "outputs": [
    {
     "data": {
      "text/plain": [
       "True"
      ]
     },
     "execution_count": 17,
     "metadata": {},
     "output_type": "execute_result"
    }
   ],
   "source": [
    "even_check(20)"
   ]
  },
  {
   "cell_type": "code",
   "execution_count": 18,
   "id": "290fccbf",
   "metadata": {},
   "outputs": [
    {
     "data": {
      "text/plain": [
       "False"
      ]
     },
     "execution_count": 18,
     "metadata": {},
     "output_type": "execute_result"
    }
   ],
   "source": [
    "even_check(21)"
   ]
  },
  {
   "cell_type": "code",
   "execution_count": 20,
   "id": "24372586",
   "metadata": {},
   "outputs": [],
   "source": [
    "def check_even_list(numList):\n",
    "    for item in numList:\n",
    "        if item%2 == 0:\n",
    "            return True\n",
    "        \n",
    "    return False"
   ]
  },
  {
   "cell_type": "code",
   "execution_count": 21,
   "id": "9388dc55",
   "metadata": {},
   "outputs": [
    {
     "data": {
      "text/plain": [
       "True"
      ]
     },
     "execution_count": 21,
     "metadata": {},
     "output_type": "execute_result"
    }
   ],
   "source": [
    "check_even_list([1,2,3])"
   ]
  },
  {
   "cell_type": "code",
   "execution_count": 22,
   "id": "7b5de2f3",
   "metadata": {},
   "outputs": [
    {
     "data": {
      "text/plain": [
       "False"
      ]
     },
     "execution_count": 22,
     "metadata": {},
     "output_type": "execute_result"
    }
   ],
   "source": [
    "check_even_list([3,5,7])"
   ]
  },
  {
   "cell_type": "code",
   "execution_count": 23,
   "id": "7af6daad",
   "metadata": {},
   "outputs": [],
   "source": [
    "def check_even_list(numList):\n",
    "    myEvenNums = []\n",
    "    for item in numList:\n",
    "        if item%2 == 0:\n",
    "            myEvenNums.append(item)\n",
    "        \n",
    "    return myEvenNums"
   ]
  },
  {
   "cell_type": "code",
   "execution_count": 24,
   "id": "8ec424e5",
   "metadata": {},
   "outputs": [
    {
     "data": {
      "text/plain": [
       "[2, 4, 6]"
      ]
     },
     "execution_count": 24,
     "metadata": {},
     "output_type": "execute_result"
    }
   ],
   "source": [
    "check_even_list([2,4,6])"
   ]
  },
  {
   "cell_type": "code",
   "execution_count": 25,
   "id": "d2ea182c",
   "metadata": {},
   "outputs": [
    {
     "data": {
      "text/plain": [
       "[2]"
      ]
     },
     "execution_count": 25,
     "metadata": {},
     "output_type": "execute_result"
    }
   ],
   "source": [
    "check_even_list([1,2,3])"
   ]
  },
  {
   "cell_type": "code",
   "execution_count": 26,
   "id": "d0e73f78",
   "metadata": {},
   "outputs": [
    {
     "data": {
      "text/plain": [
       "[]"
      ]
     },
     "execution_count": 26,
     "metadata": {},
     "output_type": "execute_result"
    }
   ],
   "source": [
    "check_even_list([3,5,7])"
   ]
  },
  {
   "cell_type": "markdown",
   "id": "2d885be2",
   "metadata": {},
   "source": [
    "## Tuple Unpacking with Python functions"
   ]
  },
  {
   "cell_type": "code",
   "execution_count": 27,
   "id": "4398e345",
   "metadata": {},
   "outputs": [],
   "source": [
    "stock_prices = [('APPL', 200), ('GOOG',400),('MSFT',100)] "
   ]
  },
  {
   "cell_type": "code",
   "execution_count": 28,
   "id": "b0b2f6b7",
   "metadata": {},
   "outputs": [
    {
     "name": "stdout",
     "output_type": "stream",
     "text": [
      "('APPL', 200)\n",
      "('GOOG', 400)\n",
      "('MSFT', 100)\n"
     ]
    }
   ],
   "source": [
    "for item in stock_prices:\n",
    "    print(item)"
   ]
  },
  {
   "cell_type": "code",
   "execution_count": 29,
   "id": "8b8a5a2d",
   "metadata": {},
   "outputs": [
    {
     "name": "stdout",
     "output_type": "stream",
     "text": [
      "APPL\n",
      "GOOG\n",
      "MSFT\n"
     ]
    }
   ],
   "source": [
    "for ticker,prices in stock_prices:\n",
    "    print(ticker)"
   ]
  },
  {
   "cell_type": "code",
   "execution_count": 33,
   "id": "68ca9c0a",
   "metadata": {},
   "outputs": [],
   "source": [
    "work_hours = [(\"ABBY\",100),(\"BILLY\",4000),(\"Cassie\",800)]"
   ]
  },
  {
   "cell_type": "code",
   "execution_count": 34,
   "id": "88d1cc21",
   "metadata": {},
   "outputs": [],
   "source": [
    "def employee_check(work_hours):\n",
    "    current_max = 0\n",
    "    employee_of_the_month = \"\"\n",
    "    \n",
    "    for name,hour in work_hours:\n",
    "        if hour>current_max:\n",
    "            current_max = hour\n",
    "            employee_of_the_month=name\n",
    "    \n",
    "    return (employee_of_the_month,current_max)"
   ]
  },
  {
   "cell_type": "code",
   "execution_count": 36,
   "id": "6966977d",
   "metadata": {},
   "outputs": [],
   "source": [
    "name, hours = employee_check(work_hours)"
   ]
  },
  {
   "cell_type": "code",
   "execution_count": 37,
   "id": "1817eea8",
   "metadata": {},
   "outputs": [
    {
     "data": {
      "text/plain": [
       "'BILLY'"
      ]
     },
     "execution_count": 37,
     "metadata": {},
     "output_type": "execute_result"
    }
   ],
   "source": [
    "name"
   ]
  },
  {
   "cell_type": "code",
   "execution_count": 38,
   "id": "a494f075",
   "metadata": {},
   "outputs": [
    {
     "data": {
      "text/plain": [
       "4000"
      ]
     },
     "execution_count": 38,
     "metadata": {},
     "output_type": "execute_result"
    }
   ],
   "source": [
    "hours"
   ]
  },
  {
   "cell_type": "markdown",
   "id": "8308b8fa",
   "metadata": {},
   "source": [
    "## Interactions Between Functions"
   ]
  },
  {
   "cell_type": "code",
   "execution_count": 4,
   "id": "6a24c889",
   "metadata": {},
   "outputs": [],
   "source": [
    "example = [1,2,3,4,5,6,7]"
   ]
  },
  {
   "cell_type": "code",
   "execution_count": 5,
   "id": "d66f4738",
   "metadata": {},
   "outputs": [],
   "source": [
    "from random import shuffle"
   ]
  },
  {
   "cell_type": "code",
   "execution_count": 6,
   "id": "920e647e",
   "metadata": {},
   "outputs": [],
   "source": [
    "shuffle(example)"
   ]
  },
  {
   "cell_type": "code",
   "execution_count": 7,
   "id": "06b55653",
   "metadata": {},
   "outputs": [
    {
     "data": {
      "text/plain": [
       "[1, 7, 3, 5, 6, 4, 2]"
      ]
     },
     "execution_count": 7,
     "metadata": {},
     "output_type": "execute_result"
    }
   ],
   "source": [
    "example"
   ]
  },
  {
   "cell_type": "code",
   "execution_count": 8,
   "id": "b6c455df",
   "metadata": {},
   "outputs": [],
   "source": [
    "def shuffle_list(myList):\n",
    "    shuffle(myList)\n",
    "    return myList"
   ]
  },
  {
   "cell_type": "code",
   "execution_count": 9,
   "id": "d3dafa30",
   "metadata": {},
   "outputs": [
    {
     "data": {
      "text/plain": [
       "[1, 3, 2, 5]"
      ]
     },
     "execution_count": 9,
     "metadata": {},
     "output_type": "execute_result"
    }
   ],
   "source": [
    "result = shuffle_list([1,2,3,5])\n",
    "result"
   ]
  },
  {
   "cell_type": "code",
   "execution_count": 10,
   "id": "d7ed715f",
   "metadata": {},
   "outputs": [],
   "source": [
    "myList = [' ','O',' ']"
   ]
  },
  {
   "cell_type": "code",
   "execution_count": 11,
   "id": "93998a5b",
   "metadata": {},
   "outputs": [
    {
     "data": {
      "text/plain": [
       "[' ', 'O', ' ']"
      ]
     },
     "execution_count": 11,
     "metadata": {},
     "output_type": "execute_result"
    }
   ],
   "source": [
    "shuffle_list(myList)"
   ]
  },
  {
   "cell_type": "code",
   "execution_count": 12,
   "id": "7d8d13f1",
   "metadata": {},
   "outputs": [],
   "source": [
    "def player_guess():\n",
    "    guess=''\n",
    "    while guess not in ['0','1','2']:\n",
    "        guess = input(\"Pick a number: 0,1,2 \")\n",
    "    return int(guess)"
   ]
  },
  {
   "cell_type": "code",
   "execution_count": 13,
   "id": "28680602",
   "metadata": {},
   "outputs": [
    {
     "name": "stdout",
     "output_type": "stream",
     "text": [
      "Pick a number: 0,1,2 2\n"
     ]
    }
   ],
   "source": [
    "myIndex = player_guess()"
   ]
  },
  {
   "cell_type": "code",
   "execution_count": 14,
   "id": "acf4c796",
   "metadata": {},
   "outputs": [],
   "source": [
    "def check_guess(myList,user_guess):\n",
    "    if myList[user_guess]=='O':\n",
    "        print(\"Correct\")\n",
    "    else:\n",
    "        print(\"Wrong Guess\")\n",
    "        print(myList)"
   ]
  },
  {
   "cell_type": "code",
   "execution_count": 16,
   "id": "464c6ab8",
   "metadata": {},
   "outputs": [
    {
     "name": "stdout",
     "output_type": "stream",
     "text": [
      "Pick a number: 0,1,2 0\n",
      "Wrong Guess\n",
      "[' ', 'O', ' ']\n"
     ]
    }
   ],
   "source": [
    "# Setup initial list \n",
    "myList = [' ','O',' ']\n",
    "# Shuffle the list \n",
    "mixed_up_list = shuffle_list(myList)\n",
    "# User Guess \n",
    "user_guess = player_guess()\n",
    "# Check User Guess\n",
    "check_guess(mixed_up_list,user_guess)"
   ]
  },
  {
   "cell_type": "markdown",
   "id": "b3d53339",
   "metadata": {},
   "source": [
    "## *kwargs and *args "
   ]
  },
  {
   "cell_type": "code",
   "execution_count": 5,
   "id": "095cfd8d",
   "metadata": {},
   "outputs": [],
   "source": [
    "def myfunc(a,b,c=0,d=0):\n",
    "    return sum((a,b,c,d)) * 0.05"
   ]
  },
  {
   "cell_type": "code",
   "execution_count": 10,
   "id": "acbc31fe",
   "metadata": {},
   "outputs": [
    {
     "data": {
      "text/plain": [
       "15.0"
      ]
     },
     "execution_count": 10,
     "metadata": {},
     "output_type": "execute_result"
    }
   ],
   "source": [
    "myfunc(40,60,100,100)"
   ]
  },
  {
   "cell_type": "code",
   "execution_count": 16,
   "id": "ffb157fd",
   "metadata": {},
   "outputs": [],
   "source": [
    "def myfunc(*nums):\n",
    "    print(nums)\n",
    "    return sum(nums) * 0.05"
   ]
  },
  {
   "cell_type": "code",
   "execution_count": 17,
   "id": "cf5652ca",
   "metadata": {},
   "outputs": [
    {
     "name": "stdout",
     "output_type": "stream",
     "text": [
      "(10, 20, 30, 40)\n"
     ]
    },
    {
     "data": {
      "text/plain": [
       "5.0"
      ]
     },
     "execution_count": 17,
     "metadata": {},
     "output_type": "execute_result"
    }
   ],
   "source": [
    "myfunc(10,20,30,40)"
   ]
  },
  {
   "cell_type": "code",
   "execution_count": 19,
   "id": "530d3247",
   "metadata": {},
   "outputs": [],
   "source": [
    "def myfunc(**kwargs):\n",
    "    if \"fruit\" in kwargs:\n",
    "        print(f\"My fruit of choice is {kwargs['fruit']}\")\n",
    "    else:\n",
    "        print(\"I did not find any fruit here\")"
   ]
  },
  {
   "cell_type": "code",
   "execution_count": 21,
   "id": "7c20be1b",
   "metadata": {},
   "outputs": [
    {
     "name": "stdout",
     "output_type": "stream",
     "text": [
      "My fruit of choice is apple\n"
     ]
    }
   ],
   "source": [
    "myfunc(fruit='apple',veggie='lettuce')"
   ]
  },
  {
   "cell_type": "code",
   "execution_count": 25,
   "id": "9571f366",
   "metadata": {},
   "outputs": [],
   "source": [
    "def myfunc(*args, **kwargs):\n",
    "    print(args)\n",
    "    print(kwargs)\n",
    "    print(f\"I would like {args[1]} {kwargs['fruit']}\")"
   ]
  },
  {
   "cell_type": "code",
   "execution_count": 26,
   "id": "d56d675a",
   "metadata": {},
   "outputs": [
    {
     "name": "stdout",
     "output_type": "stream",
     "text": [
      "(1, 2, 3)\n",
      "{'fruit': 'apple', 'vegetable': 'potato'}\n",
      "I would like 2 apple\n"
     ]
    }
   ],
   "source": [
    "myfunc(1,2,3,fruit='apple',vegetable='potato')"
   ]
  },
  {
   "cell_type": "code",
   "execution_count": 27,
   "id": "27bbb71d",
   "metadata": {},
   "outputs": [],
   "source": [
    "def myfunc(*args, val):\n",
    "    print(args)\n",
    "    print(val)\n",
    "    print(f\"I would like {args[1]} {val}\")"
   ]
  },
  {
   "cell_type": "code",
   "execution_count": null,
   "id": "8d5b1642",
   "metadata": {},
   "outputs": [],
   "source": []
  }
 ],
 "metadata": {
  "kernelspec": {
   "display_name": "Python 3",
   "language": "python",
   "name": "python3"
  },
  "language_info": {
   "codemirror_mode": {
    "name": "ipython",
    "version": 3
   },
   "file_extension": ".py",
   "mimetype": "text/x-python",
   "name": "python",
   "nbconvert_exporter": "python",
   "pygments_lexer": "ipython3",
   "version": "3.8.8"
  }
 },
 "nbformat": 4,
 "nbformat_minor": 5
}
