{
 "cells": [
  {
   "cell_type": "code",
   "execution_count": 4,
   "id": "77bb6ce6",
   "metadata": {},
   "outputs": [],
   "source": [
    "game_list = [0,1,2]\n",
    "def display_game(game_list):\n",
    "    print(\"Here is the current List: \")\n",
    "    print(game_list)"
   ]
  },
  {
   "cell_type": "code",
   "execution_count": 5,
   "id": "051f6924",
   "metadata": {},
   "outputs": [
    {
     "name": "stdout",
     "output_type": "stream",
     "text": [
      "Here is the current List: \n",
      "[0, 1, 2]\n"
     ]
    }
   ],
   "source": [
    "display_game(game_list)"
   ]
  },
  {
   "cell_type": "code",
   "execution_count": 6,
   "id": "a291504a",
   "metadata": {},
   "outputs": [],
   "source": [
    "def position_choice():\n",
    "    choice = \"WRONG\"\n",
    "    while choice not in [\"0\",\"1\",\"2\"]:\n",
    "        choice = input(\"Pick a position (0,1,2)\")\n",
    "        \n",
    "        if choice not in [\"0\",\"1\",\"2\"]:\n",
    "            print(\"Sorry invalid choice!\")\n",
    "    return int(choice)"
   ]
  },
  {
   "cell_type": "code",
   "execution_count": 7,
   "id": "df5049f3",
   "metadata": {},
   "outputs": [
    {
     "name": "stdin",
     "output_type": "stream",
     "text": [
      "Pick a position (0,1,2) \n"
     ]
    },
    {
     "name": "stdout",
     "output_type": "stream",
     "text": [
      "Sorry invalid choice!\n"
     ]
    },
    {
     "name": "stdin",
     "output_type": "stream",
     "text": [
      "Pick a position (0,1,2) 1\n"
     ]
    },
    {
     "data": {
      "text/plain": [
       "1"
      ]
     },
     "execution_count": 7,
     "metadata": {},
     "output_type": "execute_result"
    }
   ],
   "source": [
    "position_choice()"
   ]
  },
  {
   "cell_type": "code",
   "execution_count": 8,
   "id": "73324a2f",
   "metadata": {},
   "outputs": [],
   "source": [
    "def replacement_choice(game_list, position):\n",
    "    user_placement = input(\"Type a string to place at position: \")\n",
    "    game_list[position] = user_placement\n",
    "    return game_list"
   ]
  },
  {
   "cell_type": "code",
   "execution_count": 6,
   "id": "b1f51de3",
   "metadata": {},
   "outputs": [
    {
     "name": "stdout",
     "output_type": "stream",
     "text": [
      "Type a string to place at position: test\n"
     ]
    },
    {
     "data": {
      "text/plain": [
       "[0, 'test', 2]"
      ]
     },
     "execution_count": 6,
     "metadata": {},
     "output_type": "execute_result"
    }
   ],
   "source": [
    "replacement_choice(game_list,1)"
   ]
  },
  {
   "cell_type": "code",
   "execution_count": 9,
   "id": "4c72cef8",
   "metadata": {},
   "outputs": [],
   "source": [
    "def gameon_choice():\n",
    "    choice = \"WRONG\"\n",
    "    while choice not in [\"Y\",\"N\"]:\n",
    "        choice = input(\"Keep Playing (Y/N)?\")\n",
    "        \n",
    "        if choice not in [\"Y\",\"N\"]:\n",
    "            print(\"Sorry invalid choice!\")\n",
    "    \n",
    "    if choice==\"Y\":\n",
    "        return True\n",
    "    else:\n",
    "        return False"
   ]
  },
  {
   "cell_type": "code",
   "execution_count": 10,
   "id": "b056a171",
   "metadata": {},
   "outputs": [
    {
     "name": "stdin",
     "output_type": "stream",
     "text": [
      "Keep Playing (Y/N)? y\n"
     ]
    },
    {
     "name": "stdout",
     "output_type": "stream",
     "text": [
      "Sorry invalid choice!\n"
     ]
    },
    {
     "name": "stdin",
     "output_type": "stream",
     "text": [
      "Keep Playing (Y/N)? Y\n"
     ]
    },
    {
     "data": {
      "text/plain": [
       "True"
      ]
     },
     "execution_count": 10,
     "metadata": {},
     "output_type": "execute_result"
    }
   ],
   "source": [
    "gameon_choice()"
   ]
  },
  {
   "cell_type": "code",
   "execution_count": 11,
   "id": "4e467c1c",
   "metadata": {},
   "outputs": [
    {
     "name": "stdin",
     "output_type": "stream",
     "text": [
      "Keep Playing (Y/N)? n\n"
     ]
    },
    {
     "name": "stdout",
     "output_type": "stream",
     "text": [
      "Sorry invalid choice!\n"
     ]
    },
    {
     "name": "stdin",
     "output_type": "stream",
     "text": [
      "Keep Playing (Y/N)? N\n"
     ]
    },
    {
     "data": {
      "text/plain": [
       "False"
      ]
     },
     "execution_count": 11,
     "metadata": {},
     "output_type": "execute_result"
    }
   ],
   "source": [
    "gameon_choice()"
   ]
  },
  {
   "cell_type": "code",
   "execution_count": null,
   "id": "414a0a7b",
   "metadata": {},
   "outputs": [
    {
     "name": "stdout",
     "output_type": "stream",
     "text": [
      "Here is the current List: \n",
      "[0, 1, 2]\n"
     ]
    },
    {
     "name": "stdin",
     "output_type": "stream",
     "text": [
      "Pick a position (0,1,2) 0\n",
      "Type a string to place at position:  test\n"
     ]
    },
    {
     "name": "stdout",
     "output_type": "stream",
     "text": [
      "Here is the current List: \n",
      "['test', 1, 2]\n"
     ]
    },
    {
     "name": "stdin",
     "output_type": "stream",
     "text": [
      "Keep Playing (Y/N)? Y\n"
     ]
    },
    {
     "name": "stdout",
     "output_type": "stream",
     "text": [
      "Here is the current List: \n",
      "['test', 1, 2]\n"
     ]
    },
    {
     "name": "stdin",
     "output_type": "stream",
     "text": [
      "Pick a position (0,1,2) 0\n",
      "Type a string to place at position:  Yes\n"
     ]
    },
    {
     "name": "stdout",
     "output_type": "stream",
     "text": [
      "Here is the current List: \n",
      "['Yes', 1, 2]\n"
     ]
    },
    {
     "name": "stdin",
     "output_type": "stream",
     "text": [
      "Keep Playing (Y/N)? Y\n"
     ]
    },
    {
     "name": "stdout",
     "output_type": "stream",
     "text": [
      "Here is the current List: \n",
      "['Yes', 1, 2]\n"
     ]
    },
    {
     "name": "stdin",
     "output_type": "stream",
     "text": [
      "Pick a position (0,1,2) 1\n",
      "Type a string to place at position:  Yes\n"
     ]
    },
    {
     "name": "stdout",
     "output_type": "stream",
     "text": [
      "Here is the current List: \n",
      "['Yes', 'Yes', 2]\n"
     ]
    },
    {
     "name": "stdin",
     "output_type": "stream",
     "text": [
      "Keep Playing (Y/N)? Y\n"
     ]
    },
    {
     "name": "stdout",
     "output_type": "stream",
     "text": [
      "Here is the current List: \n",
      "['Yes', 'Yes', 2]\n"
     ]
    },
    {
     "name": "stdin",
     "output_type": "stream",
     "text": [
      "Pick a position (0,1,2) 2\n",
      "Type a string to place at position:  Yes\n"
     ]
    },
    {
     "name": "stdout",
     "output_type": "stream",
     "text": [
      "Here is the current List: \n",
      "['Yes', 'Yes', 'Yes']\n"
     ]
    },
    {
     "name": "stdin",
     "output_type": "stream",
     "text": [
      "Keep Playing (Y/N)? Y\n"
     ]
    },
    {
     "name": "stdout",
     "output_type": "stream",
     "text": [
      "Here is the current List: \n",
      "['Yes', 'Yes', 'Yes']\n"
     ]
    },
    {
     "name": "stdin",
     "output_type": "stream",
     "text": [
      "Pick a position (0,1,2) 3\n"
     ]
    },
    {
     "name": "stdout",
     "output_type": "stream",
     "text": [
      "Sorry invalid choice!\n"
     ]
    }
   ],
   "source": [
    "game_on=True\n",
    "game_list = [0,1,2]\n",
    "\n",
    "while game_on: \n",
    "    display_game(game_list)\n",
    "    position = position_choice()\n",
    "    game_list = replacement_choice(game_list, position)\n",
    "    display_game(game_list)\n",
    "    game_on = gameon_choice()\n"
   ]
  },
  {
   "cell_type": "markdown",
   "id": "15a06af3",
   "metadata": {},
   "source": [
    "<H1>Tic Tac Toe</H1>"
   ]
  },
  {
   "cell_type": "code",
   "execution_count": 1,
   "id": "b0cd9302",
   "metadata": {},
   "outputs": [],
   "source": [
    "#Step 1 : Setup the Board \n",
    "\n",
    "from IPython.display import clear_output\n",
    "\n",
    "def display_board(board):\n",
    "    clear_output()\n",
    "    print(board[7]+\"|\"+board[8]+\"|\"+board[9])\n",
    "    print(board[4]+\"|\"+board[5]+\"|\"+board[6])\n",
    "    print(board[1]+\"|\"+board[2]+\"|\"+board[3])"
   ]
  },
  {
   "cell_type": "code",
   "execution_count": 2,
   "id": "3d3ebb59",
   "metadata": {},
   "outputs": [],
   "source": [
    "#Step 2 : Take player input and assign their marker as 'X' or 'O'\n",
    "def player_input():\n",
    "    marker = ''\n",
    "    while marker != 'X' and marker !='O':\n",
    "        marker = input(\"Player 1, Choose X or O:  \").upper()\n",
    "        \n",
    "    player1 = marker\n",
    "    \n",
    "    if player1=='X':\n",
    "        player2='O'\n",
    "    else:\n",
    "        player2='X'\n",
    "        \n",
    "    return (player1,player2)    "
   ]
  },
  {
   "cell_type": "code",
   "execution_count": 3,
   "id": "53b7ad37",
   "metadata": {},
   "outputs": [],
   "source": [
    "#Step 3: Take board list object, a marker ('X' or 'O') and a desired position (1-9) and assign it to board\n",
    "def place_marker(board,marker,position):\n",
    "    board[position] = marker\n",
    "    return board"
   ]
  },
  {
   "cell_type": "code",
   "execution_count": 4,
   "id": "ada9496f",
   "metadata": {},
   "outputs": [],
   "source": [
    "#Step 4: Takes in a board and a mark (X/O) and then checks to see if that mark has won\n",
    "def win_check(board, mark):\n",
    "    if ((board[1] == board[2] == board[3] == mark) or \n",
    "        (board[4] == board[5] == board[6] == mark) or\n",
    "        (board[7] == board[8] == board[9] == mark) or \n",
    "        (board[7] == board[4] == board[1] == mark) or \n",
    "        (board[8] == board[5] == board[2] == mark) or\n",
    "        (board[9] == board[6] == board[3] == mark) or \n",
    "        (board[7] == board[5] == board[3] == mark) or\n",
    "        (board[9] == board[5] == board[1] == mark)):\n",
    "        return True\n",
    "    else: \n",
    "        return False\n"
   ]
  },
  {
   "cell_type": "code",
   "execution_count": 5,
   "id": "9f6fff61",
   "metadata": {},
   "outputs": [],
   "source": [
    "#Step 5: Use Random module to randomly decide which player goes first\n",
    "import random \n",
    "def choose_first():\n",
    "    flip = random.randint(0,1)\n",
    "    if flip == 0: \n",
    "        return \"Player 1\"\n",
    "    else:\n",
    "        return \"Player 2\""
   ]
  },
  {
   "cell_type": "code",
   "execution_count": 6,
   "id": "f3ae84c1",
   "metadata": {},
   "outputs": [],
   "source": [
    "#Step 6: Write a function on board indicating whether a space on board is freely available \n",
    "def space_check(board, position):\n",
    "    return board[position]==\" \""
   ]
  },
  {
   "cell_type": "code",
   "execution_count": 7,
   "id": "f45151ef",
   "metadata": {},
   "outputs": [],
   "source": [
    "#Step 7: Check if board is full and return a boolean value\n",
    "\n",
    "def full_board_check(board):\n",
    "    for i in range (1,10):\n",
    "        if space_check(board,i):\n",
    "            return False       \n",
    "    return True"
   ]
  },
  {
   "cell_type": "code",
   "execution_count": 8,
   "id": "6b0080e1",
   "metadata": {},
   "outputs": [],
   "source": [
    "#Step 7: Ask for player's next position and return if available \n",
    "\n",
    "def position_choice(the_board):\n",
    "    position = 0\n",
    "    while position not in range(1,10) or not space_check(the_board,position) :\n",
    "        position = int(input(\"Pick a position (1-9)\"))\n",
    "     \n",
    "    return position"
   ]
  },
  {
   "cell_type": "code",
   "execution_count": 9,
   "id": "33195c2e",
   "metadata": {},
   "outputs": [],
   "source": [
    "#Step 8: Ask player if they want to play again \n",
    "def replay():\n",
    "    choice = input(\"Keep Playing (Yes/No)?\")\n",
    "    return choice==\"Yes\""
   ]
  },
  {
   "cell_type": "code",
   "execution_count": null,
   "id": "8f40e5a9",
   "metadata": {},
   "outputs": [
    {
     "name": "stdout",
     "output_type": "stream",
     "text": [
      "X|O|X\n",
      "X|O|O\n",
      "O|X|O\n",
      "Tie Game!!\n",
      "Keep Playing (Yes/No)?Yes\n"
     ]
    }
   ],
   "source": [
    "print(\"Welcome to Tic Tac Toe!\")\n",
    "\n",
    "while True: \n",
    "    \n",
    "    #Setup Board\n",
    "    the_board = [\" \"]*10 \n",
    "    \n",
    "    #Choose Markers\n",
    "    player1_marker , player2_marker = player_input()\n",
    "    \n",
    "    #Choose First Player\n",
    "    turn = choose_first()\n",
    "    \n",
    "    print(turn + \" will go first\")\n",
    "   \n",
    "    play_game = input(\"Ready to Play ? (y/n)\")\n",
    "    \n",
    "    if play_game == 'y':\n",
    "        game_on = True\n",
    "    else:\n",
    "        game_on = False\n",
    "        \n",
    "    #Game Play\n",
    "    while game_on: \n",
    "        if turn == \"Player 1\": \n",
    "            display_board(the_board)\n",
    "            print(\"Player 1's Turn !\")\n",
    "            position = position_choice(the_board)\n",
    "            place_marker(the_board,player1_marker,position)\n",
    "            if win_check(the_board,player1_marker):\n",
    "                display_board(the_board)\n",
    "                print(\"Player 1 won!!\")\n",
    "                game_on=False\n",
    "            else: \n",
    "                if full_board_check(the_board):\n",
    "                    display_board(the_board)\n",
    "                    print(\"Tie Game!!\")\n",
    "                    game_on=False\n",
    "                else: \n",
    "                    turn = \"Player 2\"\n",
    "        else:\n",
    "            display_board(the_board)\n",
    "            print(\"Player 2's Turn !\")\n",
    "            position = position_choice(the_board)\n",
    "            place_marker(the_board,player2_marker,position)\n",
    "            if win_check(the_board,player2_marker):\n",
    "                display_board(the_board)\n",
    "                print(\"Player 2 won!!\")\n",
    "                game_on=False\n",
    "            else: \n",
    "                if full_board_check(the_board):\n",
    "                    display_board(the_board)\n",
    "                    print(\"Tie Game!!\")\n",
    "                    game_on=False\n",
    "                else: \n",
    "                    turn = \"Player 1\"\n",
    "            \n",
    "            \n",
    "    if not replay():\n",
    "        break"
   ]
  },
  {
   "cell_type": "code",
   "execution_count": null,
   "id": "a81693e4",
   "metadata": {},
   "outputs": [],
   "source": []
  }
 ],
 "metadata": {
  "kernelspec": {
   "display_name": "Python 3",
   "language": "python",
   "name": "python3"
  },
  "language_info": {
   "codemirror_mode": {
    "name": "ipython",
    "version": 3
   },
   "file_extension": ".py",
   "mimetype": "text/x-python",
   "name": "python",
   "nbconvert_exporter": "python",
   "pygments_lexer": "ipython3",
   "version": "3.8.8"
  }
 },
 "nbformat": 4,
 "nbformat_minor": 5
}
