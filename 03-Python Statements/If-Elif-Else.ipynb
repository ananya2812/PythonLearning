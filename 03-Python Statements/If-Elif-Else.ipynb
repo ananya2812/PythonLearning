{
 "cells": [
  {
   "cell_type": "code",
   "execution_count": 1,
   "id": "b4691ac5",
   "metadata": {},
   "outputs": [
    {
     "name": "stdout",
     "output_type": "stream",
     "text": [
      "Its True\n"
     ]
    }
   ],
   "source": [
    "if True:\n",
    "    print('Its True!')"
   ]
  },
  {
   "cell_type": "code",
   "execution_count": 2,
   "id": "07976f4e",
   "metadata": {},
   "outputs": [
    {
     "name": "stdout",
     "output_type": "stream",
     "text": [
      "Its True!\n"
     ]
    }
   ],
   "source": [
    "if 3>2:\n",
    "    print('Its True!')"
   ]
  },
  {
   "cell_type": "code",
   "execution_count": 3,
   "id": "7f285045",
   "metadata": {},
   "outputs": [
    {
     "name": "stdout",
     "output_type": "stream",
     "text": [
      "feed me!!\n"
     ]
    }
   ],
   "source": [
    "hungry = True\n",
    "if hungry:\n",
    "    print(\"feed me!!\")"
   ]
  },
  {
   "cell_type": "code",
   "execution_count": 6,
   "id": "d9dad5b6",
   "metadata": {},
   "outputs": [
    {
     "name": "stdout",
     "output_type": "stream",
     "text": [
      "Feed me!!\n"
     ]
    }
   ],
   "source": [
    "hungry = True\n",
    "if hungry:\n",
    "    print(\"Feed me!!\")\n",
    "else:\n",
    "    print(\"Not hungry\")"
   ]
  },
  {
   "cell_type": "code",
   "execution_count": 11,
   "id": "25d2e44c",
   "metadata": {},
   "outputs": [
    {
     "name": "stdout",
     "output_type": "stream",
     "text": [
      "Money is Cool !!\n"
     ]
    }
   ],
   "source": [
    "loc = 'BANK'\n",
    "\n",
    "if loc==\"AUTO SHOP\":\n",
    "    print(\"Cars are cool\")\n",
    "elif loc==\"BANK\":    \n",
    "    print(\"Money is Cool !!\")\n",
    "elif loc==\"Store\":    \n",
    "    print(\"Welcome to the store !!\")    \n",
    "else:\n",
    "    print(\"I do not know much!!\")\n"
   ]
  },
  {
   "cell_type": "code",
   "execution_count": 14,
   "id": "959bd4d8",
   "metadata": {},
   "outputs": [
    {
     "name": "stdout",
     "output_type": "stream",
     "text": [
      "Hello Sammy\n"
     ]
    }
   ],
   "source": [
    "name = \"Sammy\"\n",
    "if name==\"Franky\":\n",
    "    print(\"Hello Franky\")\n",
    "elif name == \"Sammy\":\n",
    "    print(\"Hello Sammy\")\n",
    "else:\n",
    "    print(\"What's your name?\")"
   ]
  },
  {
   "cell_type": "code",
   "execution_count": null,
   "id": "cbfaa3db",
   "metadata": {},
   "outputs": [],
   "source": []
  }
 ],
 "metadata": {
  "kernelspec": {
   "display_name": "Python 3",
   "language": "python",
   "name": "python3"
  },
  "language_info": {
   "codemirror_mode": {
    "name": "ipython",
    "version": 3
   },
   "file_extension": ".py",
   "mimetype": "text/x-python",
   "name": "python",
   "nbconvert_exporter": "python",
   "pygments_lexer": "ipython3",
   "version": "3.8.8"
  }
 },
 "nbformat": 4,
 "nbformat_minor": 5
}
