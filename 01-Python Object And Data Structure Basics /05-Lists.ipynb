{
 "cells": [
  {
   "cell_type": "code",
   "execution_count": 1,
   "id": "0faa1a99",
   "metadata": {},
   "outputs": [],
   "source": [
    "my_list=[1,2,3,4,5]"
   ]
  },
  {
   "cell_type": "code",
   "execution_count": 2,
   "id": "15d790f9",
   "metadata": {},
   "outputs": [],
   "source": [
    "my_list = ['String', 100, 23.2]"
   ]
  },
  {
   "cell_type": "code",
   "execution_count": 3,
   "id": "fdfec8c1",
   "metadata": {},
   "outputs": [
    {
     "data": {
      "text/plain": [
       "3"
      ]
     },
     "execution_count": 3,
     "metadata": {},
     "output_type": "execute_result"
    }
   ],
   "source": [
    "len(my_list)"
   ]
  },
  {
   "cell_type": "markdown",
   "id": "f2065d8c",
   "metadata": {},
   "source": [
    "<H3>Indexing in List</H3>"
   ]
  },
  {
   "cell_type": "code",
   "execution_count": 9,
   "id": "96b4584b",
   "metadata": {},
   "outputs": [],
   "source": [
    "my_list = ['one', 'two', 'three']"
   ]
  },
  {
   "cell_type": "code",
   "execution_count": 5,
   "id": "ffd7ec03",
   "metadata": {},
   "outputs": [
    {
     "data": {
      "text/plain": [
       "'one'"
      ]
     },
     "execution_count": 5,
     "metadata": {},
     "output_type": "execute_result"
    }
   ],
   "source": [
    "my_list[0]"
   ]
  },
  {
   "cell_type": "markdown",
   "id": "5d82ece7",
   "metadata": {},
   "source": [
    "<H3>Slicing in List</H3>"
   ]
  },
  {
   "cell_type": "code",
   "execution_count": 6,
   "id": "04e869d8",
   "metadata": {},
   "outputs": [
    {
     "data": {
      "text/plain": [
       "['two', 'three']"
      ]
     },
     "execution_count": 6,
     "metadata": {},
     "output_type": "execute_result"
    }
   ],
   "source": [
    "my_list[1:]"
   ]
  },
  {
   "cell_type": "code",
   "execution_count": 8,
   "id": "7fa9a03d",
   "metadata": {},
   "outputs": [
    {
     "data": {
      "text/plain": [
       "['one']"
      ]
     },
     "execution_count": 8,
     "metadata": {},
     "output_type": "execute_result"
    }
   ],
   "source": [
    "my_list[:1]"
   ]
  },
  {
   "cell_type": "markdown",
   "id": "c8d1abd7",
   "metadata": {},
   "source": [
    "<H3>List Concatenation</H3>"
   ]
  },
  {
   "cell_type": "code",
   "execution_count": 10,
   "id": "b5350664",
   "metadata": {},
   "outputs": [],
   "source": [
    "another_list=['five','six']"
   ]
  },
  {
   "cell_type": "code",
   "execution_count": 12,
   "id": "5d3f5d49",
   "metadata": {},
   "outputs": [],
   "source": [
    "new_list = my_list+another_list"
   ]
  },
  {
   "cell_type": "code",
   "execution_count": 13,
   "id": "ced05475",
   "metadata": {},
   "outputs": [
    {
     "data": {
      "text/plain": [
       "['one', 'two', 'three', 'five', 'six']"
      ]
     },
     "execution_count": 13,
     "metadata": {},
     "output_type": "execute_result"
    }
   ],
   "source": [
    "new_list"
   ]
  },
  {
   "cell_type": "markdown",
   "id": "05245799",
   "metadata": {},
   "source": [
    "<H3>List Mutation</H3>"
   ]
  },
  {
   "cell_type": "code",
   "execution_count": 14,
   "id": "7905b545",
   "metadata": {},
   "outputs": [],
   "source": [
    "new_list[0] = \"ONE\""
   ]
  },
  {
   "cell_type": "code",
   "execution_count": 15,
   "id": "1d2b1a29",
   "metadata": {},
   "outputs": [
    {
     "data": {
      "text/plain": [
       "['ONE', 'two', 'three', 'five', 'six']"
      ]
     },
     "execution_count": 15,
     "metadata": {},
     "output_type": "execute_result"
    }
   ],
   "source": [
    "new_list"
   ]
  },
  {
   "cell_type": "markdown",
   "id": "00de98ad",
   "metadata": {},
   "source": [
    "<H3>List Methods</H3>"
   ]
  },
  {
   "cell_type": "markdown",
   "id": "913a15d5",
   "metadata": {},
   "source": [
    "<H4>Append</H4>"
   ]
  },
  {
   "cell_type": "code",
   "execution_count": 16,
   "id": "d51c4026",
   "metadata": {},
   "outputs": [],
   "source": [
    "new_list.append(\"seven\")"
   ]
  },
  {
   "cell_type": "code",
   "execution_count": 17,
   "id": "1935efb0",
   "metadata": {},
   "outputs": [
    {
     "data": {
      "text/plain": [
       "['ONE', 'two', 'three', 'five', 'six', 'seven']"
      ]
     },
     "execution_count": 17,
     "metadata": {},
     "output_type": "execute_result"
    }
   ],
   "source": [
    "new_list"
   ]
  },
  {
   "cell_type": "code",
   "execution_count": 18,
   "id": "fbbec49f",
   "metadata": {},
   "outputs": [],
   "source": [
    "new_list.append(\"eight\")"
   ]
  },
  {
   "cell_type": "code",
   "execution_count": 19,
   "id": "02e716a8",
   "metadata": {},
   "outputs": [
    {
     "data": {
      "text/plain": [
       "['ONE', 'two', 'three', 'five', 'six', 'seven', 'eight']"
      ]
     },
     "execution_count": 19,
     "metadata": {},
     "output_type": "execute_result"
    }
   ],
   "source": [
    "new_list"
   ]
  },
  {
   "cell_type": "markdown",
   "id": "8747274a",
   "metadata": {},
   "source": [
    "<H4>Pop</H4>"
   ]
  },
  {
   "cell_type": "code",
   "execution_count": 23,
   "id": "fd58e197",
   "metadata": {},
   "outputs": [],
   "source": [
    "popped_item = new_list.pop()"
   ]
  },
  {
   "cell_type": "code",
   "execution_count": 24,
   "id": "0cdd375e",
   "metadata": {},
   "outputs": [
    {
     "data": {
      "text/plain": [
       "['ONE', 'two', 'three', 'five', 'six']"
      ]
     },
     "execution_count": 24,
     "metadata": {},
     "output_type": "execute_result"
    }
   ],
   "source": [
    "new_list"
   ]
  },
  {
   "cell_type": "code",
   "execution_count": 25,
   "id": "101da7ef",
   "metadata": {},
   "outputs": [
    {
     "name": "stdout",
     "output_type": "stream",
     "text": [
      "seven\n"
     ]
    }
   ],
   "source": [
    "print(popped_item)"
   ]
  },
  {
   "cell_type": "code",
   "execution_count": 26,
   "id": "88d702ae",
   "metadata": {},
   "outputs": [
    {
     "data": {
      "text/plain": [
       "'ONE'"
      ]
     },
     "execution_count": 26,
     "metadata": {},
     "output_type": "execute_result"
    }
   ],
   "source": [
    "new_list.pop(0)"
   ]
  },
  {
   "cell_type": "code",
   "execution_count": 27,
   "id": "fc48bcba",
   "metadata": {},
   "outputs": [
    {
     "data": {
      "text/plain": [
       "['two', 'three', 'five', 'six']"
      ]
     },
     "execution_count": 27,
     "metadata": {},
     "output_type": "execute_result"
    }
   ],
   "source": [
    "new_list"
   ]
  },
  {
   "cell_type": "code",
   "execution_count": 28,
   "id": "14cb68e6",
   "metadata": {},
   "outputs": [
    {
     "data": {
      "text/plain": [
       "'six'"
      ]
     },
     "execution_count": 28,
     "metadata": {},
     "output_type": "execute_result"
    }
   ],
   "source": [
    "new_list.pop(-1)"
   ]
  },
  {
   "cell_type": "markdown",
   "id": "3b8c66e7",
   "metadata": {},
   "source": [
    "<H4>Sort</H4>"
   ]
  },
  {
   "cell_type": "code",
   "execution_count": 30,
   "id": "c5326269",
   "metadata": {},
   "outputs": [],
   "source": [
    "newList = ['a','e','d','b','c']\n",
    "numList = [4,1,9,3]"
   ]
  },
  {
   "cell_type": "code",
   "execution_count": 31,
   "id": "f8797da5",
   "metadata": {},
   "outputs": [],
   "source": [
    "newList.sort()"
   ]
  },
  {
   "cell_type": "code",
   "execution_count": 32,
   "id": "e577b2f8",
   "metadata": {},
   "outputs": [
    {
     "data": {
      "text/plain": [
       "['a', 'b', 'c', 'd', 'e']"
      ]
     },
     "execution_count": 32,
     "metadata": {},
     "output_type": "execute_result"
    }
   ],
   "source": [
    "newList"
   ]
  },
  {
   "cell_type": "code",
   "execution_count": 33,
   "id": "7a3fe621",
   "metadata": {},
   "outputs": [],
   "source": [
    "numList.sort()"
   ]
  },
  {
   "cell_type": "code",
   "execution_count": 35,
   "id": "bd8d7402",
   "metadata": {},
   "outputs": [
    {
     "data": {
      "text/plain": [
       "[1, 3, 4, 9]"
      ]
     },
     "execution_count": 35,
     "metadata": {},
     "output_type": "execute_result"
    }
   ],
   "source": [
    "numList"
   ]
  },
  {
   "cell_type": "code",
   "execution_count": 36,
   "id": "4ba08e09",
   "metadata": {},
   "outputs": [],
   "source": [
    "mySortedList = numList.sort()"
   ]
  },
  {
   "cell_type": "code",
   "execution_count": 37,
   "id": "9132e2fb",
   "metadata": {},
   "outputs": [
    {
     "data": {
      "text/plain": [
       "NoneType"
      ]
     },
     "execution_count": 37,
     "metadata": {},
     "output_type": "execute_result"
    }
   ],
   "source": [
    "type(mySortedList)"
   ]
  },
  {
   "cell_type": "code",
   "execution_count": 38,
   "id": "7b44d585",
   "metadata": {},
   "outputs": [
    {
     "name": "stdout",
     "output_type": "stream",
     "text": [
      "None\n"
     ]
    }
   ],
   "source": [
    "print(mySortedList)"
   ]
  },
  {
   "cell_type": "markdown",
   "id": "dba0e3a3",
   "metadata": {},
   "source": [
    "<H4>Reverse</H4>"
   ]
  },
  {
   "cell_type": "code",
   "execution_count": 42,
   "id": "491706de",
   "metadata": {},
   "outputs": [
    {
     "data": {
      "text/plain": [
       "[9, 4, 3, 1]"
      ]
     },
     "execution_count": 42,
     "metadata": {},
     "output_type": "execute_result"
    }
   ],
   "source": [
    "numList"
   ]
  },
  {
   "cell_type": "code",
   "execution_count": 43,
   "id": "a33e97e2",
   "metadata": {},
   "outputs": [],
   "source": [
    "numList.reverse()"
   ]
  },
  {
   "cell_type": "code",
   "execution_count": 44,
   "id": "163ff096",
   "metadata": {},
   "outputs": [
    {
     "data": {
      "text/plain": [
       "[1, 3, 4, 9]"
      ]
     },
     "execution_count": 44,
     "metadata": {},
     "output_type": "execute_result"
    }
   ],
   "source": [
    "numList"
   ]
  },
  {
   "cell_type": "code",
   "execution_count": null,
   "id": "eccaff99",
   "metadata": {},
   "outputs": [],
   "source": []
  }
 ],
 "metadata": {
  "kernelspec": {
   "display_name": "Python 3",
   "language": "python",
   "name": "python3"
  },
  "language_info": {
   "codemirror_mode": {
    "name": "ipython",
    "version": 3
   },
   "file_extension": ".py",
   "mimetype": "text/x-python",
   "name": "python",
   "nbconvert_exporter": "python",
   "pygments_lexer": "ipython3",
   "version": "3.8.8"
  }
 },
 "nbformat": 4,
 "nbformat_minor": 5
}
